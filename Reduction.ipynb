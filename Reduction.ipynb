{
 "cells": [
  {
   "cell_type": "markdown",
   "id": "526c190f-bdea-4601-b6d4-9a3eb35e1379",
   "metadata": {},
   "source": [
    "# Radio Prac"
   ]
  },
  {
   "cell_type": "markdown",
   "id": "2ae16b46-3334-4299-b690-5012204f959f",
   "metadata": {},
   "source": [
    "#### Imports"
   ]
  },
  {
   "cell_type": "code",
   "execution_count": 77,
   "id": "80000849-4807-4e9f-b5d5-2a819bc9d134",
   "metadata": {
    "tags": []
   },
   "outputs": [],
   "source": [
    "#Required imports\n",
    "from astropy.io import fits\n",
    "from datetime import datetime\n",
    "from astropy.time import Time\n",
    "from astropy.coordinates import SkyCoord, EarthLocation\n",
    "import astropy.units as u\n",
    "from astropy.coordinates import ICRS, LSR\n",
    "import pandas as pd\n",
    "import numpy as np\n",
    "\n",
    "import matplotlib.pyplot as plt\n",
    "import os\n",
    "data_dir = os.getcwd() + '\\\\Observation\\\\FITS'\n",
    "ref_dir = os.getcwd() + '\\\\l_297_b_-15'\n",
    "gal_longitudes = [28, 320, 326]"
   ]
  },
  {
   "cell_type": "markdown",
   "id": "b3dc9a68-356b-4ef6-8d40-e5c1f9dad0ad",
   "metadata": {},
   "source": [
    "### Reducing Observation Data "
   ]
  },
  {
   "cell_type": "code",
   "execution_count": 78,
   "id": "1b8a7b1d-ac1d-4294-87b2-8cd20a48b1fd",
   "metadata": {
    "tags": []
   },
   "outputs": [],
   "source": [
    "fits_files = [f for f in os.listdir(data_dir) if f.endswith('.fits')]\n",
    "fits_files.sort()\n",
    "# Split fits filenames into 3 groups of 3: (3 Targets each with 3 200 second exposures)\n",
    "targets = [fits_files[i:i+3] for i in range(0, len(fits_files), 3)]"
   ]
  },
  {
   "cell_type": "code",
   "execution_count": 179,
   "id": "125befde-228d-459a-97ae-4bc585b9f8d3",
   "metadata": {},
   "outputs": [
    {
     "data": {
      "text/plain": [
       "XTENSION= 'BINTABLE'           / Table Extension                                \n",
       "BITPIX  =                    8 / Binary data                                    \n",
       "NAXIS   =                    2 / Two_dimensional table array                    \n",
       "NAXIS1  =                16460 / Bytes per row (16460)                          \n",
       "NAXIS2  = 30                     / NAXIS2 is ydimension of table array          \n",
       "PCOUNT  =                    0 / Number of bytes following data matrix          \n",
       "GCOUNT  =                    1 / Only one group                                 \n",
       "TFIELDS =                   11 / Number of columns in the table                 \n",
       "TFORM1  = '1D        '           / 1 double precision fp #8 bytes               \n",
       "TTYPE1  = 'JD        '           / Julian Day                                   \n",
       "TUNIT1  = 'd         '           / Days                                         \n",
       "TFORM2  = '1D        '           / 1 double precision fp #8 bytes               \n",
       "TTYPE2  = 'Azimuth   '           / Azimuth angle                                \n",
       "TUNIT2  = 'deg       '           / Degree                                       \n",
       "TFORM3  = '1D        '           / 1 double precision fp #8 bytes               \n",
       "TTYPE3  = 'Elevation '           / Elevation angle                              \n",
       "TUNIT3  = 'deg       '           / Degree                                       \n",
       "TFORM4  = '1D        '           / 1 double precision fp #8 bytes               \n",
       "TTYPE4  = 'Az_Offset '           / Azimuth offset angle                         \n",
       "TUNIT4  = 'deg       '           / Degree                                       \n",
       "TFORM5  = '1D        '           / 1 double precision fp #8 bytes               \n",
       "TTYPE5  = 'El_Offset '           / Elevation offset angle                       \n",
       "TUNIT5  = 'deg       '           / Degree                                       \n",
       "TFORM6  = '1D        '           / 1 double precision fp #8 bytes               \n",
       "TTYPE6  = 'Gal_Long  '           / Galactic longitude angle                     \n",
       "TUNIT6  = 'deg       '           / Degree                                       \n",
       "TFORM7  = '1D        '           / 1 double precision fp #8 bytes               \n",
       "TTYPE7  = 'Gal_Lat   '           / Galactic latitude angle                      \n",
       "TUNIT7  = 'deg       '           / Degree                                       \n",
       "TFORM8  = '1024K     '           / 1 integer 32-bit # 4 bytes                   \n",
       "TTYPE8  = 'LEFT_POL  '           / TPI of left polarization                     \n",
       "TUNIT8  = 'count     '           / Signal ADU counts                            \n",
       "TFORM9  = '1024K     '           / 1 integer 32-bit # 4 bytes                   \n",
       "TTYPE9  = 'RIGHT_POL '           / TPI of right polarization                    \n",
       "TUNIT9  = 'count     '           / Signal ADU counts                            \n",
       "TFORM10 = '4A        '           / 4 characters # 4 bytes                       \n",
       "TTYPE10 = 'STATUS    '           / Tag about nodding status On-Off-Cal          \n",
       "TUNIT10 = '          '           / Unitless                                     \n",
       "TFORM11 = '16A       '           / 16 characters # 16 bytes                     \n",
       "TTYPE11 = 'MARKER    '           / Note about sample                            \n",
       "TUNIT11 = '          '           / Unitless                                     \n",
       "DATE-OBS= '2024-09-19T10:10:05'         / UTC of start observ                   \n",
       "DATE-END= '2024-09-19T10:17:15'         / UTC of end observ                     \n",
       "HIERARCH Project_Name= 'PROJ01'                                                 \n",
       "HIERARCH Scan Tag= '1'                                                          \n",
       "HIERARCH SubScanID= '1'                                                         \n",
       "HIERARCH ScheduleName= ''                                                       \n",
       "MJD     =      60572.4236705671  / MJD                                          \n",
       "LST     =      19.7634138027825  / LST                                          \n",
       "SITELAT =     -37.1405555555556  / The Site Latitude                            \n",
       "SITELONG=      145.124722222222  / The Site Longitude                           \n",
       "SITEELEV=                   551  / The Site Elevation                           \n",
       "RA      =      18.7082043207673  / RA at t=0                                    \n",
       "DEC     =     -4.38599498967994  / DEC at t=0                                   \n",
       "SUNANGLE=                     0  / Angle between the sun and the target         \n",
       "TELAPSE =                     0  /  Time elapsed                                \n",
       "AIRMASS =                     0  / Airmass                                      \n",
       "AUTHOR  = '                  ' / Author name                                    \n",
       "OBSERVER= '                  ' / Observer name                                  \n",
       "OBJECT  = 'gal               ' / Object observed                                \n",
       "EQUINOX =               2000.0 / In years for the celestial coordinate system   \n",
       "TELESCOP= '        SPIDER 300A' / TELESCOPE Name                                \n",
       "DIAMETER =                    3  / TELESCOPE diameter                           \n",
       "FRONTEND= '                   ' / Description of frontend device                \n",
       "BACKEND = '                   ' / Description of backend device                 \n",
       "BMAJ    =      4.03376144265431  / Main beam major axis size                    \n",
       "BMIN    =      4.03376144265431  / Main beam minor axis size                    \n",
       "OBSFREQ = 1429250000             / Observed frequency (Hz)                      \n",
       "BNDRES  =      61094.8191593353  / Spectral resolution (Hz)                     \n",
       "BASEFREQ=            1398000000  / Baseband frequency (Hz)                      \n",
       "BANDWID =              62500000  / The bandwidth (Hz)                           \n",
       "TCAL    =                     0  / Constant radio calibration factor (Jy)       \n",
       "POLARIZ = 'L,R               ' / POLARIZATION H,V,RC,LC                         \n",
       "VLSR    =                     0  / The VLSR                                     \n",
       "RESTFRQ =       1420405751.7667  / Rest Frequency (Hz)                          \n",
       "SPECSYS =                 'LSRK' / Spectral reference frame                     \n",
       "COMMENT *                                                                       \n",
       "COMMENT *                                                                       \n",
       "COMMENT *                                                                       \n",
       "COMMENT *                                                                       \n",
       "COMMENT *                                                                       \n",
       "COMMENT *                                                                       \n",
       "COMMENT *                                                                       \n",
       "COMMENT *                                                                       \n",
       "COMMENT *                                                                       "
      ]
     },
     "execution_count": 179,
     "metadata": {},
     "output_type": "execute_result"
    }
   ],
   "source": [
    "def process_pol(data, key:str, statuses):\n",
    "    \"\"\"Helper function to process polarimetry data.\"\"\"\n",
    "    pol_data = data[key]\n",
    "    pol_data = np.column_stack((statuses, pol_data))  # Add 'status' column\n",
    "    pol_data = pol_data[np.char.strip(pol_data[:, 0]) != 'cal']  # Filter out calibrations\n",
    "    return np.sum(pol_data[:, 1:].astype(float), axis=0)  # Sum measurements across the frequencies\n",
    "\n",
    "def read_fits_table(filepath: str) -> tuple:\n",
    "    with fits.open(filepath) as hdul:\n",
    "        # Extract data into a dictionary\n",
    "        data = {column.name: hdul[1].data[column.name] for column in hdul[1].columns}\n",
    "        \n",
    "        statuses = data['STATUS']  # Extract statuses\n",
    "\n",
    "        # Process both RIGHT_POL and LEFT_POL\n",
    "        data['RIGHT_POL'] = process_pol(data, 'RIGHT_POL', statuses)\n",
    "        data['LEFT_POL'] = process_pol(data, 'LEFT_POL', statuses)\n",
    "\n",
    "        return data, hdul[1].header\n",
    "\n",
    "data, head = read_fits_table('20240919-101005_SPECTRUM-PROJ01-GAL_01#_01#.fits')\n",
    "# for key in data.keys():\n",
    "#     print(data[key].shape)\n",
    "head"
   ]
  },
  {
   "cell_type": "code",
   "execution_count": 3,
   "id": "bf1724bc-60ef-406f-97dc-f8894b6a9891",
   "metadata": {
    "tags": []
   },
   "outputs": [
    {
     "name": "stderr",
     "output_type": "stream",
     "text": [
      "WARNING: File may have been truncated: actual file length (505320) is smaller than the expected size (506880) [astropy.io.fits.file]\n",
      "WARNING: The following header keyword is invalid or follows an unrecognized non-standard convention:\n",
      "DIAMETER =                    3  / TELESCOPE diameter                            [astropy.io.fits.card]\n"
     ]
    }
   ],
   "source": [
    "from astropy.io import fits\n",
    "target_spectra = []\n",
    "\n",
    "# Loop over each target\n",
    "for target in targets:\n",
    "    summed_600sec = None\n",
    "\n",
    "    # Loop over each FITS file for the current target\n",
    "    for third in target:\n",
    "        # Define the path to the FITS file\n",
    "        fits_path = os.path.join(data_dir, third)\n",
    "\n",
    "        # Open the FITS file using a context manager to ensure proper closing\n",
    "        with fits.open(fits_path) as hdul:\n",
    "            # Extract the 'LEFT_POL' data from the second HDU (index 1)\n",
    "            data = hdul[1].data['LEFT_POL']\n",
    "\n",
    "            # Remove every third element from the data (based on the index)\n",
    "            removed_cal = np.array([data[i, :] for i in range(data.shape[0]) if (i + 1) % 3 != 0])\n",
    "\n",
    "            # Sum the remaining data (200 seconds summed for this file)\n",
    "            summed_200sec = np.sum(removed_cal, axis=0)\n",
    "\n",
    "            # Accumulate the summed spectra for each FITS file\n",
    "            if summed_600sec is None:\n",
    "                summed_600sec = summed_200sec  # First FITS file, initialize summed_600sec\n",
    "            else:\n",
    "                summed_600sec += summed_200sec  # Subsequent FITS files, add to existing sum\n",
    "\n",
    "    # Append the summed spectrum as a DataFrame to the list for the current target\n",
    "    target_spectra.append(pd.DataFrame({'counts': summed_600sec}))"
   ]
  },
  {
   "cell_type": "markdown",
   "id": "fe4776d7-4433-4485-89af-1b60d27a9869",
   "metadata": {},
   "source": [
    "### Generate frequency axis as middle of s.t. ADU counts are at the centers of 1024 bins of width $\\frac{\\text{Bandwidth}}{1024} \\equiv \\text{Band Resolution}$"
   ]
  },
  {
   "cell_type": "code",
   "execution_count": 182,
   "id": "0135e5cd-223b-4fec-af2a-751979100938",
   "metadata": {
    "tags": []
   },
   "outputs": [
    {
     "data": {
      "text/plain": [
       "ColDefs(\n",
       "    name = 'JD'; format = '1D'; unit = 'd'\n",
       "    name = 'Azimuth'; format = '1D'; unit = 'deg'\n",
       "    name = 'Elevation'; format = '1D'; unit = 'deg'\n",
       "    name = 'Az_Offset'; format = '1D'; unit = 'deg'\n",
       "    name = 'El_Offset'; format = '1D'; unit = 'deg'\n",
       "    name = 'Gal_Long'; format = '1D'; unit = 'deg'\n",
       "    name = 'Gal_Lat'; format = '1D'; unit = 'deg'\n",
       "    name = 'LEFT_POL'; format = '1024K'; unit = 'count'\n",
       "    name = 'RIGHT_POL'; format = '1024K'; unit = 'count'\n",
       "    name = 'STATUS'; format = '4A'\n",
       "    name = 'MARKER'; format = '16A'\n",
       ")"
      ]
     },
     "execution_count": 182,
     "metadata": {},
     "output_type": "execute_result"
    }
   ],
   "source": [
    "from astropy.io import fits\n",
    "with fits.open(os.path.join(data_dir, targets[0][1])) as hdul:\n",
    "    fits = hdul[1]\n",
    "    header = hdul[1].header\n",
    "    f0 = header['BASEFREQ']\n",
    "    BW = header['BANDWID']\n",
    "    df = header['BNDRES'] ## Use resolution as frequency binwidth\n",
    "    # df = BW/ 1024 ## Use BandWidth and Magic number 1024 as frequency binwidth\n",
    "    # df = pd.DataFrame(fits.data)\n",
    "freq = np.arange(f0 + df/2, f0 + BW + df, df)/10**9\n",
    "\n",
    "# Give each longitude data a frequency axis\n",
    "for target in target_spectra:\n",
    "    target['frequency'] = freq\n",
    "\n",
    "fits.columns"
   ]
  },
  {
   "cell_type": "code",
   "execution_count": 5,
   "id": "d1640d17-b427-4bf2-88e2-911ab8dd0d5e",
   "metadata": {
    "tags": []
   },
   "outputs": [
    {
     "data": {
      "image/png": "[encoded data removed]",
      "text/plain": [
       "<Figure size 576x360 with 1 Axes>"
      ]
     },
     "metadata": {
      "needs_background": "light"
     },
     "output_type": "display_data"
    }
   ],
   "source": [
    "# %matplotlib widget\n",
    "# plt.clf()\n",
    "# with fits.open(os.path.join(data_dir, targets[0][0])) as hdul:\n",
    "#             data1 = hdul[1].data['LEFT_POL'][1,:]\n",
    "\n",
    "fig, ax = plt.subplots(1, figsize=(8, 5))\n",
    "for i,spectrum in enumerate(target_spectra):\n",
    "    # if i!=1:\n",
    "    #     continue\n",
    "    ax.plot(target_spectra[i]['frequency'], target_spectra[i]['counts'], label=f'$\\\\ell=${gal_longitudes[i]}')\n",
    "# ax.plot(freq, data1, label='$\\\\ell = 28$ (10s)')\n",
    "ax.set(xlabel='Frequency [GHz]', ylabel='ADU', title='Our Observations')\n",
    "\n",
    "ax.legend()\n",
    "plt.show()"
   ]
  },
  {
   "cell_type": "markdown",
   "id": "4b76eac9-8f24-419d-a475-203ad14ab053",
   "metadata": {},
   "source": [
    "### Surface Brightness Calibration"
   ]
  },
  {
   "cell_type": "code",
   "execution_count": 6,
   "id": "1179882e-bcc8-4e4f-898e-90caca9634bd",
   "metadata": {
    "scrolled": true,
    "tags": []
   },
   "outputs": [
    {
     "data": {
      "text/plain": [
       "['20210912-060233_SPECTRUM-PROJ01-GAL_01#_01#.fits',\n",
       " '20210912-061012_SPECTRUM-PROJ01-GAL_02#_01#.fits',\n",
       " '20210912-061658_SPECTRUM-PROJ01-GAL_03#_01#.fits',\n",
       " '20210912-062349_SPECTRUM-PROJ01-GAL_04#_01#.fits',\n",
       " '20210912-063041_SPECTRUM-PROJ01-GAL_05#_01#.fits']"
      ]
     },
     "execution_count": 6,
     "metadata": {},
     "output_type": "execute_result"
    }
   ],
   "source": [
    "ref_fits_files = [f for f in os.listdir(ref_dir) if f.endswith('.fits')]\n",
    "ref_fits_files.sort()\n",
    "# Split fits filenames into 3 groups of 3: (3 Targets each with 3 200 second exposures)\n",
    "# targets = [fits_files[i:i+3] for i in range(0, len(fits_files), 3)]\n",
    "ref_fits_files"
   ]
  },
  {
   "cell_type": "markdown",
   "id": "d2eab834-8c64-46ae-9f9f-831c9ce0a5c9",
   "metadata": {},
   "source": [
    "## Extracting and Stacking (Sum) Reference Spectrum "
   ]
  },
  {
   "cell_type": "code",
   "execution_count": 7,
   "id": "f42091f7-eaa4-4530-8d52-50a36c52f832",
   "metadata": {
    "scrolled": true,
    "tags": []
   },
   "outputs": [
    {
     "name": "stderr",
     "output_type": "stream",
     "text": [
      "WARNING: File may have been truncated: actual file length (505320) is smaller than the expected size (506880) [astropy.io.fits.file]\n",
      "WARNING: The following header keyword is invalid or follows an unrecognized non-standard convention:\n",
      "DIAMETER =                    3  / TELESCOPE diameter                            [astropy.io.fits.card]\n"
     ]
    }
   ],
   "source": [
    "from astropy.io import fits\n",
    "with fits.open(os.path.join(ref_dir, ref_fits_files[3])) as hdul1:\n",
    "    # Extract the data from the second HDU (index 1)\n",
    "    cal_data = hdul1[1].data\n",
    "\n",
    "    # Calculate the galactic longitude (mean of the 'Gal_Long' column)\n",
    "    cal_long = np.mean(cal_data['Gal_Long'])\n",
    "\n",
    "    # Extract the galactic latitude and other data\n",
    "    cal_lat = cal_data['Gal_Lat']\n",
    "    cal_header = hdul1[1].header\n",
    "\n",
    "    # Corrected central frequency and bandwidth\n",
    "    cal_f0 = 1428.75  # Corrected central frequency (in Hz)\n",
    "    cal_obs = cal_header['OBSFREQ ']\n",
    "    cal_BW = cal_header['BANDWID']  # Bandwidth from the header\n",
    "    beam_width = cal_header['BMAJ']  # Beam major axis (in degrees)\n",
    "\n",
    "    # Optionally, you can calculate the frequency bin width if needed\n",
    "    # df = cal_BW / 1024  # Bandwidth divided by a magic number (1024)\n",
    "\n",
    "# Output the header for inspection (if needed)\n",
    "# cal_obs\n"
   ]
  },
  {
   "cell_type": "code",
   "execution_count": 8,
   "id": "11c17bdf-d263-44ce-8c94-b58c45790a2f",
   "metadata": {
    "scrolled": true,
    "tags": []
   },
   "outputs": [
    {
     "name": "stdout",
     "output_type": "stream",
     "text": [
      "avg_gal_long=207.30119974014073, avg_gal_lat=-14.417381999977476, beam_width=4.03376144265431\n"
     ]
    },
    {
     "data": {
      "text/plain": [
       "(1024,)"
      ]
     },
     "execution_count": 8,
     "metadata": {},
     "output_type": "execute_result"
    }
   ],
   "source": [
    "from astropy.io import fits\n",
    "summed_ref_spectrum = None\n",
    "avg_gal_longs = []\n",
    "avg_gal_lats = []\n",
    "for spec in ref_fits_files:\n",
    "    file_path = os.path.join(ref_dir, spec)\n",
    "    with fits.open(file_path) as hdul:\n",
    "        # Check if hdul[1] is a BinTableHDU\n",
    "        if isinstance(hdul[1], fits.BinTableHDU):\n",
    "            data = hdul[1].data['RIGHT_POL']\n",
    "            avg_gal_longs.append(np.mean(hdul[1].data['Gal_Long']))\n",
    "            avg_gal_lats.append(np.mean(hdul[1].data['Gal_Lat']))\n",
    "            removed_cal = np.array([data[i, :] for i in range(data.shape[0]) if (i + 1) % 3 != 0])\n",
    "            summed_200sec = np.sum(removed_cal, axis=0)  # Use removed_cal if that's the intention\n",
    "\n",
    "            if summed_ref_spectrum is None:\n",
    "                summed_ref_spectrum = summed_200sec\n",
    "            else:\n",
    "                summed_ref_spectrum += summed_200sec\n",
    "avg_gal_long = np.mean(np.array(avg_gal_longs))\n",
    "avg_gal_lat = np.mean(np.array(avg_gal_lats))\n",
    "print(f'{avg_gal_long=}, {avg_gal_lat=}, {beam_width=}')\n",
    "summed_ref_spectrum.shape"
   ]
  },
  {
   "cell_type": "markdown",
   "id": "a60b3236-fcd6-43d2-9eed-9ab844ee66b0",
   "metadata": {},
   "source": [
    "### frequency scale for reference spectrum "
   ]
  },
  {
   "cell_type": "code",
   "execution_count": 9,
   "id": "4dfad817-1c7e-4f56-8c56-9724d53f5650",
   "metadata": {},
   "outputs": [
    {
     "data": {
      "text/html": [
       "<div>\n",
       "<style scoped>\n",
       "    .dataframe tbody tr th:only-of-type {\n",
       "        vertical-align: middle;\n",
       "    }\n",
       "\n",
       "    .dataframe tbody tr th {\n",
       "        vertical-align: top;\n",
       "    }\n",
       "\n",
       "    .dataframe thead th {\n",
       "        text-align: right;\n",
       "    }\n",
       "</style>\n",
       "<table border=\"1\" class=\"dataframe\">\n",
       "  <thead>\n",
       "    <tr style=\"text-align: right;\">\n",
       "      <th></th>\n",
       "      <th>frequency</th>\n",
       "      <th>counts</th>\n",
       "    </tr>\n",
       "  </thead>\n",
       "  <tbody>\n",
       "    <tr>\n",
       "      <th>0</th>\n",
       "      <td>1.397500</td>\n",
       "      <td>-148332025</td>\n",
       "    </tr>\n",
       "    <tr>\n",
       "      <th>1</th>\n",
       "      <td>1.397561</td>\n",
       "      <td>3434340974</td>\n",
       "    </tr>\n",
       "    <tr>\n",
       "      <th>2</th>\n",
       "      <td>1.397622</td>\n",
       "      <td>6582458602</td>\n",
       "    </tr>\n",
       "    <tr>\n",
       "      <th>3</th>\n",
       "      <td>1.397683</td>\n",
       "      <td>9613987419</td>\n",
       "    </tr>\n",
       "    <tr>\n",
       "      <th>4</th>\n",
       "      <td>1.397744</td>\n",
       "      <td>12603814649</td>\n",
       "    </tr>\n",
       "    <tr>\n",
       "      <th>...</th>\n",
       "      <td>...</td>\n",
       "      <td>...</td>\n",
       "    </tr>\n",
       "    <tr>\n",
       "      <th>1019</th>\n",
       "      <td>1.459695</td>\n",
       "      <td>17551577505</td>\n",
       "    </tr>\n",
       "    <tr>\n",
       "      <th>1020</th>\n",
       "      <td>1.459756</td>\n",
       "      <td>17239751916</td>\n",
       "    </tr>\n",
       "    <tr>\n",
       "      <th>1021</th>\n",
       "      <td>1.459817</td>\n",
       "      <td>17519054968</td>\n",
       "    </tr>\n",
       "    <tr>\n",
       "      <th>1022</th>\n",
       "      <td>1.459878</td>\n",
       "      <td>17311203946</td>\n",
       "    </tr>\n",
       "    <tr>\n",
       "      <th>1023</th>\n",
       "      <td>1.459939</td>\n",
       "      <td>0</td>\n",
       "    </tr>\n",
       "  </tbody>\n",
       "</table>\n",
       "<p>1024 rows × 2 columns</p>\n",
       "</div>"
      ],
      "text/plain": [
       "      frequency       counts\n",
       "0      1.397500   -148332025\n",
       "1      1.397561   3434340974\n",
       "2      1.397622   6582458602\n",
       "3      1.397683   9613987419\n",
       "4      1.397744  12603814649\n",
       "...         ...          ...\n",
       "1019   1.459695  17551577505\n",
       "1020   1.459756  17239751916\n",
       "1021   1.459817  17519054968\n",
       "1022   1.459878  17311203946\n",
       "1023   1.459939            0\n",
       "\n",
       "[1024 rows x 2 columns]"
      ]
     },
     "execution_count": 9,
     "metadata": {},
     "output_type": "execute_result"
    }
   ],
   "source": [
    "freq1 = np.arange(cal_f0 - cal_BW / 2, cal_f0 + cal_BW / 2, cal_BW/1024)/10**3\n",
    "ref_spectrum = pd.DataFrame({'frequency': freq1, 'counts': summed_ref_spectrum})\n",
    "ref_spectrum"
   ]
  },
  {
   "cell_type": "markdown",
   "id": "f31db5dc-20c8-436b-85c1-ab896b6556b3",
   "metadata": {},
   "source": [
    "### Plotting Reference Spectrum"
   ]
  },
  {
   "cell_type": "code",
   "execution_count": 10,
   "id": "3eb02431-d5ab-4b0e-8055-315f81844e13",
   "metadata": {},
   "outputs": [
    {
     "ename": "NameError",
     "evalue": "name 'max_ref_freq' is not defined",
     "output_type": "error",
     "traceback": [
      "\u001b[1;31m---------------------------------------------------------------------------\u001b[0m",
      "\u001b[1;31mNameError\u001b[0m                                 Traceback (most recent call last)",
      "\u001b[1;32m<ipython-input-10-0ef3079f46f2>\u001b[0m in \u001b[0;36m<module>\u001b[1;34m\u001b[0m\n\u001b[1;32m----> 1\u001b[1;33m \u001b[0mfiltered_spectrum\u001b[0m \u001b[1;33m=\u001b[0m \u001b[0mref_spectrum\u001b[0m\u001b[1;33m[\u001b[0m\u001b[1;33m(\u001b[0m\u001b[0mref_spectrum\u001b[0m\u001b[1;33m[\u001b[0m\u001b[1;34m'frequency'\u001b[0m\u001b[1;33m]\u001b[0m \u001b[1;33m>\u001b[0m \u001b[0mmax_ref_freq\u001b[0m\u001b[1;33m)\u001b[0m \u001b[1;33m&\u001b[0m \u001b[1;33m(\u001b[0m\u001b[0mref_spectrum\u001b[0m\u001b[1;33m[\u001b[0m\u001b[1;34m'frequency'\u001b[0m\u001b[1;33m]\u001b[0m \u001b[1;33m<\u001b[0m \u001b[0mmin_ref_freq\u001b[0m\u001b[1;33m)\u001b[0m\u001b[1;33m]\u001b[0m\u001b[1;33m\u001b[0m\u001b[1;33m\u001b[0m\u001b[0m\n\u001b[0m\u001b[0;32m      2\u001b[0m \u001b[0mfiltered_spectrum\u001b[0m\u001b[1;33m\u001b[0m\u001b[1;33m\u001b[0m\u001b[0m\n",
      "\u001b[1;31mNameError\u001b[0m: name 'max_ref_freq' is not defined"
     ]
    }
   ],
   "source": [
    "filtered_spectrum = ref_spectrum[(ref_spectrum['frequency'] > max_ref_freq) & (ref_spectrum['frequency'] < min_ref_freq)]\n",
    "filtered_spectrum"
   ]
  },
  {
   "cell_type": "code",
   "execution_count": 14,
   "id": "1f3b4bc5-ea92-4599-9238-c851d223b271",
   "metadata": {
    "tags": []
   },
   "outputs": [
    {
     "data": {
      "image/png": "[encoded data removed]",
      "text/plain": [
       "<Figure size 576x360 with 1 Axes>"
      ]
     },
     "metadata": {
      "needs_background": "light"
     },
     "output_type": "display_data"
    }
   ],
   "source": [
    "import matplotlib.ticker as ticker\n",
    "\n",
    "# Assuming 'ref_spectrum' has 'frequency' in Hz\n",
    "# Convert to GHz if necessary\n",
    "ref_spectrum['frequency'] = ref_spectrum['frequency']\n",
    "\n",
    "# Set up the figure\n",
    "fig1, ax1 = plt.subplots(1, figsize=(8, 5))\n",
    "\n",
    "# Plot the data\n",
    "ax1.plot(ref_spectrum['frequency'], ref_spectrum['counts'], label='reference_spec')\n",
    "# filtered_spectrum_df\n",
    "# Set axis labels and titleax1.set(xlabel='Frequency [GHz]', ylabel='ADU', title='Reference Spectrum')\n",
    "\n",
    "# Use a formatter to control how the x-axis is displayed (in GHz, 3 decimal places)\n",
    "ax1.xaxis.set_major_formatter(ticker.FuncFormatter(lambda x, pos: f'{x:.3f} GHz'))\n",
    "\n",
    "# Add the legend\n",
    "ax1.legend()\n",
    "\n",
    "# Show the plot\n",
    "plt.show()\n"
   ]
  },
  {
   "cell_type": "markdown",
   "id": "1f35c8c3-3479-4693-97c8-368cb34ef077",
   "metadata": {},
   "source": [
    "### Compare Reference Spectrum to HI Profile"
   ]
  },
  {
   "cell_type": "markdown",
   "id": "7332df67-c363-44cd-adc0-ac4101dc22e7",
   "metadata": {},
   "source": [
    "#### https://www.astro.uni-bonn.de/hisurvey/euhou/LABprofile/index.php"
   ]
  },
  {
   "cell_type": "code",
   "execution_count": 15,
   "id": "7f8bd568-feae-4a4b-be33-dab56ac7f1ec",
   "metadata": {
    "scrolled": true
   },
   "outputs": [
    {
     "data": {
      "text/html": [
       "<div>\n",
       "<style scoped>\n",
       "    .dataframe tbody tr th:only-of-type {\n",
       "        vertical-align: middle;\n",
       "    }\n",
       "\n",
       "    .dataframe tbody tr th {\n",
       "        vertical-align: top;\n",
       "    }\n",
       "\n",
       "    .dataframe thead th {\n",
       "        text-align: right;\n",
       "    }\n",
       "</style>\n",
       "<table border=\"1\" class=\"dataframe\">\n",
       "  <thead>\n",
       "    <tr style=\"text-align: right;\">\n",
       "      <th></th>\n",
       "      <th>frequency</th>\n",
       "      <th>b_temp</th>\n",
       "    </tr>\n",
       "  </thead>\n",
       "  <tbody>\n",
       "    <tr>\n",
       "      <th>0</th>\n",
       "      <td>1.422300</td>\n",
       "      <td>0.00</td>\n",
       "    </tr>\n",
       "    <tr>\n",
       "      <th>1</th>\n",
       "      <td>1.422300</td>\n",
       "      <td>-0.01</td>\n",
       "    </tr>\n",
       "    <tr>\n",
       "      <th>2</th>\n",
       "      <td>1.422290</td>\n",
       "      <td>0.00</td>\n",
       "    </tr>\n",
       "    <tr>\n",
       "      <th>3</th>\n",
       "      <td>1.422290</td>\n",
       "      <td>0.00</td>\n",
       "    </tr>\n",
       "    <tr>\n",
       "      <th>4</th>\n",
       "      <td>1.422280</td>\n",
       "      <td>0.00</td>\n",
       "    </tr>\n",
       "    <tr>\n",
       "      <th>...</th>\n",
       "      <td>...</td>\n",
       "      <td>...</td>\n",
       "    </tr>\n",
       "    <tr>\n",
       "      <th>772</th>\n",
       "      <td>1.418531</td>\n",
       "      <td>0.00</td>\n",
       "    </tr>\n",
       "    <tr>\n",
       "      <th>773</th>\n",
       "      <td>1.418526</td>\n",
       "      <td>-0.01</td>\n",
       "    </tr>\n",
       "    <tr>\n",
       "      <th>774</th>\n",
       "      <td>1.418521</td>\n",
       "      <td>-0.01</td>\n",
       "    </tr>\n",
       "    <tr>\n",
       "      <th>775</th>\n",
       "      <td>1.418516</td>\n",
       "      <td>-0.01</td>\n",
       "    </tr>\n",
       "    <tr>\n",
       "      <th>776</th>\n",
       "      <td>1.418511</td>\n",
       "      <td>0.00</td>\n",
       "    </tr>\n",
       "  </tbody>\n",
       "</table>\n",
       "<p>777 rows × 2 columns</p>\n",
       "</div>"
      ],
      "text/plain": [
       "     frequency  b_temp\n",
       "0     1.422300    0.00\n",
       "1     1.422300   -0.01\n",
       "2     1.422290    0.00\n",
       "3     1.422290    0.00\n",
       "4     1.422280    0.00\n",
       "..         ...     ...\n",
       "772   1.418531    0.00\n",
       "773   1.418526   -0.01\n",
       "774   1.418521   -0.01\n",
       "775   1.418516   -0.01\n",
       "776   1.418511    0.00\n",
       "\n",
       "[777 rows x 2 columns]"
      ]
     },
     "execution_count": 15,
     "metadata": {},
     "output_type": "execute_result"
    }
   ],
   "source": [
    "HI_profile = np.loadtxt('HI_profile.csv', delimiter=',', encoding='utf-8', usecols=[2,1])\n",
    "HI_profile.shape\n",
    "HI_profile = pd.DataFrame({'frequency': HI_profile[:,0]/10**3, 'b_temp': HI_profile[:,1]})\n",
    "HI_profile"
   ]
  },
  {
   "cell_type": "code",
   "execution_count": 16,
   "id": "9f7e01fc-b216-4b09-b56f-adf445d3668d",
   "metadata": {},
   "outputs": [
    {
     "data": {
      "text/plain": [
       "1.418511"
      ]
     },
     "execution_count": 16,
     "metadata": {},
     "output_type": "execute_result"
    }
   ],
   "source": [
    "HI_profile['frequency'].min()"
   ]
  },
  {
   "cell_type": "markdown",
   "id": "26c92a3a-24db-49c4-8104-5ae15a4161ac",
   "metadata": {},
   "source": [
    "#### Scaling the reference spectrum 21cm peak to a the HI profile "
   ]
  },
  {
   "cell_type": "code",
   "execution_count": 36,
   "id": "e7cd8a37-9174-4d39-b1d9-621fb7d00ce6",
   "metadata": {
    "scrolled": true
   },
   "outputs": [],
   "source": [
    "min_ref_freq = HI_profile['frequency'].min()  # Define your minimum frequency\n",
    "max_ref_freq = HI_profile['frequency'].max()  # Define your maximum frequency\n",
    "\n",
    "# 2. Filter summed_ref_spectrum based on the specified frequency range\n",
    "ref_spectrum_window = ref_spectrum[(ref_spectrum['frequency'] >= min_ref_freq) &\n",
    "                                               (ref_spectrum['frequency'] <= max_ref_freq)]\n",
    "\n",
    "# 3. Shift windowed spectrum down by mean\n",
    "ref_mean = np.mean(ref_spectrum_window['counts'])\n",
    "ref_spectrum_shifted_window = ref_spectrum_window - ref_mean\n",
    "\n",
    "# 3. Get the counts within the specified frequency range\n",
    "reference_max = ref_spectrum_shifted_window['counts'].max()\n",
    "\n",
    "# 5. Find the scaling factor based on the maximum counts\n",
    "scale_factor = HI_profile['b_temp'].max() / reference_max"
   ]
  },
  {
   "cell_type": "markdown",
   "id": "37e398cc-8a2f-41db-b099-05b605af4c6a",
   "metadata": {},
   "source": [
    "#### Windowing, Scaling, and Flooring galactic longitudes "
   ]
  },
  {
   "cell_type": "code",
   "execution_count": 40,
   "id": "9a7aea71-4a54-4932-9027-bb093738fa80",
   "metadata": {},
   "outputs": [
    {
     "data": {
      "text/plain": [
       "[]"
      ]
     },
     "execution_count": 40,
     "metadata": {},
     "output_type": "execute_result"
    }
   ],
   "source": [
    "wsf_spectra = []\n",
    "for target in target_spectra:\n",
    "    w_target_spectra = target[(target['frequency'] >= min_ref_freq) &\n",
    "                                               (target['frequency'] <= max_ref_freq)]\n",
    "    wf_target_spectra = w_target_spectra - w_target_spectra['counts'].mean()\n",
    "    wsf_target_spectra = wf_target_spectra*scale_factor\n",
    "wsf_spectra"
   ]
  },
  {
   "cell_type": "code",
   "execution_count": 41,
   "id": "2fabf5ad-a853-49f9-8594-91c611338e92",
   "metadata": {},
   "outputs": [
    {
     "data": {
      "application/vnd.jupyter.widget-view+json": {
       "model_id": "36e5643134d14e35979646ce65f6a5eb",
       "version_major": 2,
       "version_minor": 0
      },
      "image/png": "[encoded data removed]",
      "text/html": [
       "\n",
       "            <div style=\"display: inline-block;\">\n",
       "                <div class=\"jupyter-widgets widget-label\" style=\"text-align: center;\">\n",
       "                    Figure\n",
       "                </div>\n",
       "                <img src='data:image/png;base64,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' width=800.0/>\n",
       "            </div>\n",
       "        "
      ],
      "text/plain": [
       "Canvas(toolbar=Toolbar(toolitems=[('Home', 'Reset original view', 'home', 'home'), ('Back', 'Back to previous …"
      ]
     },
     "metadata": {},
     "output_type": "display_data"
    }
   ],
   "source": [
    "# %matplotlib widget\n",
    "plt.clf()\n",
    "\n",
    "fig2, ax2 = plt.subplots(1, figsize=(8, 5))\n",
    "ax2.plot(ref_spectrum_window['frequency'], ref_spectrum_shifted_window['counts'] * scale_factor, label=f'reference_spec')\n",
    "ax2.plot(HI_profile['frequency'], HI_profile['b_temp'], label=f'HI Profile')\n",
    "ax2.set(xlabel='Frequency [GHz]', ylabel='ADU', title='Scaled and Shifted Reference Spectrum and HI Profile',\n",
    "       yscale='linear')\n",
    "\n",
    "\n",
    "\n",
    "# Use a formatter to control how the x-axis is displayed (in GHz, 3 decimal places)\n",
    "ax2.xaxis.set_major_formatter(ticker.FuncFormatter(lambda x, pos: f'{x:.3f} GHz'))\n",
    "ax2.legend()\n",
    "plt.show()"
   ]
  },
  {
   "cell_type": "markdown",
   "id": "b4a9174d-4abd-4f12-83c2-d43a0712adf6",
   "metadata": {},
   "source": [
    "## Correcting for LSR "
   ]
  },
  {
   "cell_type": "markdown",
   "id": "bc17f0a5-5007-479a-8ab8-1737573d05a1",
   "metadata": {
    "tags": []
   },
   "source": [
    "## `lsr_calc_1.1 Script` by Wolfgang Herrmann, Astropeiler Stockert"
   ]
  },
  {
   "cell_type": "code",
   "execution_count": 20,
   "id": "60fa0b91-c5f1-419a-ad4c-fa5ed545cfcb",
   "metadata": {
    "scrolled": true,
    "tags": []
   },
   "outputs": [
    {
     "name": "stderr",
     "output_type": "stream",
     "text": [
      "C:\\Users\\user\\AppData\\Local\\Temp\\ipykernel_11316\\1725757759.py:48: DeprecationWarning: datetime.datetime.utcnow() is deprecated and scheduled for removal in a future version. Use timezone-aware objects to represent datetimes in UTC: datetime.datetime.now(datetime.UTC).\n",
      "  now = datetime.utcnow()\n"
     ]
    },
    {
     "name": "stdout",
     "output_type": "stream",
     "text": [
      "Example 1\n",
      "VLSR:  16.942604166989778 km / s\n",
      "Barycentric velocity: 8809.528649126882 m / s\n",
      "Same as pure numbers in km/s:  16.942604166989778 8.809528649126882\n",
      "***\n",
      "Example 3\n",
      "Sky frequency of a hydrogen line at rest: 1420.3247266007545\n",
      "***\n",
      "Example 4\n",
      "LSR velocity: -18.420032932709223\n"
     ]
    }
   ],
   "source": [
    "\"\"\"\n",
    "vlsr_calc is a routine to do LSR corrections for radio astronomy using Astropy\n",
    "In addition to the routine itself some examples of its usage are given\n",
    "Author: Wolfgang Herrmann, Astropeiler Stockert\n",
    "Version 1.1, August 7th, 2021\n",
    "\"\"\"\n",
    "\n",
    "\n",
    "\n",
    "\"\"\"\n",
    "Here comes the routine to do the calculation\n",
    "Required inputs:\n",
    "obs_lon: Geographic longitude of the observatory in decimal degrees\n",
    "obs_lat: Geographic latitude of the observatory in decimal degrees\n",
    "obs_ht: Heigt of the observatory in meters\n",
    "ra: Right ascension of the observed sky location in decimal hours\n",
    "dec: Declination of the observed sky location in decimal degrees\n",
    "time: Time of observation in UTC (Astropy format)\n",
    "Note that there is a specific definiton of the peculiar motion of the sun\n",
    "overriding the default.\n",
    "This routine returns two values: The velocity of the observer with respect to\n",
    "the solar system barycenter and the velocity of the observer with respect to\n",
    "the local standard of rest.\n",
    "\"\"\"\n",
    "def vlsr_calc(obs_lon, obs_lat, obs_ht, ra, dec, time):\n",
    "    obsloc = EarthLocation(lon=obs_lon*u.deg, lat=obs_lat*u.deg, height=obs_ht*u.m)\n",
    "    skycoord = SkyCoord((ra*15.)*u.deg, dec*u.deg)\n",
    "    vbary = skycoord.radial_velocity_correction(kind='barycentric', obstime=time, location=obsloc)  \n",
    "    my_observation = ICRS((ra*15.)*u.deg, dec*u.deg, pm_ra_cosdec=0*u.mas/u.yr, pm_dec=0*u.mas/u.yr, \\\n",
    "    radial_velocity=vbary, distance = 1*u.pc)\n",
    "    vlsr = my_observation.transform_to(LSR(v_bary=(10.27,15.32,7.74)*u.km/u.s)).radial_velocity\n",
    "    return vbary,vlsr\n",
    "\n",
    "#Now let's make an example how to use it\n",
    "    \n",
    "#Define the observatory location\n",
    "#This example uses the coordinates of the Stockert observatory\n",
    "obs_lon = 6.72194444\n",
    "obs_lat = 50.569444\n",
    "obs_ht  = 434.0\n",
    "\n",
    "#Define the sky location observed\n",
    "ra = 0.43\n",
    "dec = 62.73\n",
    "\n",
    "#Define the time of observation\n",
    "#If you want to take the current time:\n",
    "now = datetime.utcnow()\n",
    "time=Time(now, scale='utc')\n",
    "\n",
    "#Here is an example on how to give an explicit time\n",
    "#Uncomment of you want to use this example\n",
    "#mytime = '2021-08-07T00:00:00'\n",
    "#time=Time(mytime, scale='utc')\n",
    "\n",
    "\n",
    "#Throw this into the calculation and print\n",
    "velocities = vlsr_calc(obs_lon, obs_lat, obs_ht, ra, dec, time)\n",
    "print (\"Example 1\")\n",
    "print (\"VLSR: \",velocities[1])\n",
    "print (\"Barycentric velocity:\", velocities[0])\n",
    "\n",
    "#You will notice that it is printed with units\n",
    "#This is because the velocities are returned as Astropy entities.\n",
    "#You may want to have this as simple floating point numbers:\n",
    "vlsr = velocities[1].value\n",
    "vbary = velocities[0].value/1000.\n",
    "print (\"Same as pure numbers in km/s: \",vlsr,vbary)\n",
    "print(\"***\")\n",
    "\n",
    "#Your may want to use this to convert frequencies. For this we need the\n",
    "#speed of light and the rest frequency.\n",
    "c=299792.458    #speed of light in km/s\n",
    "rest_frequency = 1420.405 #Hydrogen line in MHz\n",
    "\n",
    "#This example calculates the sky frequency of the hydrogen rest frequency.\n",
    "#You could use this to adjust your receiver frequency to record spectra in the LSR frame\n",
    "sky_frequency = rest_frequency *(1-vlsr/c)\n",
    "print (\"Example 3\")\n",
    "print (\"Sky frequency of a hydrogen line at rest:\", sky_frequency)\n",
    "print(\"***\")\n",
    "\n",
    "#Another example is to determine the LSR velocity of a line observed without correction:\n",
    "#So let's assume you have some hydrogen line at 1420.412 MHz\n",
    "#observed_frequency=sky_frequency\n",
    "observed_frequency = 1420.412\n",
    "LSR_velocity=c*(1-(observed_frequency/rest_frequency))-vlsr\n",
    "print (\"Example 4\")\n",
    "print(\"LSR velocity:\", LSR_velocity)"
   ]
  },
  {
   "cell_type": "code",
   "execution_count": 16,
   "id": "72c6d008-6af3-4ee8-b729-b17348141d91",
   "metadata": {},
   "outputs": [
    {
     "data": {
      "text/plain": [
       "array([1.42874997, 1.42874997, 1.42874997, ..., 1.42875003, 1.42875003,\n",
       "       1.42875003])"
      ]
     },
     "execution_count": 16,
     "metadata": {},
     "output_type": "execute_result"
    }
   ],
   "source": [
    "freq1"
   ]
  },
  {
   "cell_type": "code",
   "execution_count": 17,
   "id": "b32a3877-3b24-4c1d-b510-e6df5180e82c",
   "metadata": {
    "tags": []
   },
   "outputs": [
    {
     "data": {
      "text/plain": [
       "array([ 1,  2,  4,  5,  7,  8, 10, 11, 13, 14, 16, 17, 19, 20, 22, 23, 25,\n",
       "       26, 28, 29])"
      ]
     },
     "execution_count": 17,
     "metadata": {},
     "output_type": "execute_result"
    }
   ],
   "source": [
    "np.array([range(30)[i] for i in range(data.shape[0]) if (i) % 3 !=0])"
   ]
  },
  {
   "cell_type": "code",
   "execution_count": 18,
   "id": "ea42cfce-b137-47b5-947f-c1627159fd90",
   "metadata": {},
   "outputs": [
    {
     "data": {
      "text/plain": [
       "'20240919-101005_SPECTRUM-PROJ01-GAL_01#_01#.fits'"
      ]
     },
     "execution_count": 18,
     "metadata": {},
     "output_type": "execute_result"
    }
   ],
   "source": [
    "targets[0][0]"
   ]
  },
  {
   "cell_type": "code",
   "execution_count": 19,
   "id": "0dc5c6c7-594a-4344-9cd0-dc18ef39f99b",
   "metadata": {},
   "outputs": [
    {
     "name": "stdout",
     "output_type": "stream",
     "text": [
      "1.43e+09\n"
     ]
    }
   ],
   "source": [
    "print(f'{1429250000:.2e}')"
   ]
  },
  {
   "cell_type": "code",
   "execution_count": null,
   "id": "0097e51a-7dac-4c53-ac89-662173a6a8ff",
   "metadata": {},
   "outputs": [],
   "source": []
  },
  {
   "cell_type": "code",
   "execution_count": null,
   "id": "67973a53-04bb-4142-88a2-c74af53d5c9a",
   "metadata": {},
   "outputs": [],
   "source": []
  },
  {
   "cell_type": "code",
   "execution_count": null,
   "id": "e243f74c-b4a3-4d66-ae73-2b6172400d70",
   "metadata": {},
   "outputs": [],
   "source": []
  },
  {
   "cell_type": "code",
   "execution_count": null,
   "id": "ee6c72fe-e01e-4257-9757-773dca73bb5e",
   "metadata": {},
   "outputs": [],
   "source": []
  },
  {
   "cell_type": "code",
   "execution_count": null,
   "id": "65a8c4fe-efec-47cd-9f16-0c41b2c10a71",
   "metadata": {},
   "outputs": [],
   "source": []
  }
 ],
 "metadata": {
  "kernelspec": {
   "display_name": "Python 3",
   "language": "python",
   "name": "python3"
  },
  "language_info": {
   "codemirror_mode": {
    "name": "ipython",
    "version": 3
   },
   "file_extension": ".py",
   "mimetype": "text/x-python",
   "name": "python",
   "nbconvert_exporter": "python",
   "pygments_lexer": "ipython3",
   "version": "3.12.7"
  }
 },
 "nbformat": 4,
 "nbformat_minor": 5
}
